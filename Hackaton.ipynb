{
 "cells": [
  {
   "cell_type": "markdown",
   "metadata": {},
   "source": [
    "# <center>Big Compute 20 Rescale Hackathon Second Place Solution</center>\n",
    "## <center>Aerodynamical optimization of an airfoil shape using Rescale High Performance Computing with Evolutionary Algorithm</center>\n",
    "### <div align=right>Made by Ihor Markevych</div>"
   ]
  },
  {
   "cell_type": "code",
   "execution_count": null,
   "metadata": {},
   "outputs": [],
   "source": [
    "import scipy.optimize\n",
    "import requests\n",
    "import json\n",
    "from rescale.porcelain import *\n",
    "import re"
   ]
  },
  {
   "cell_type": "code",
   "execution_count": null,
   "metadata": {},
   "outputs": [],
   "source": [
    "bounds = [(-1, 1), (-1, 1), (-1, 1), (-1, 1), (-1, 1), (-1, 1), (-1, 1), (-1, 1),\n",
    "          (-1, 1), (-1, 1), (-1, 1), (-1, 1), (-1, 1), (-1, 1), (-1, 1), (-1, 1)]"
   ]
  },
  {
   "cell_type": "code",
   "execution_count": null,
   "metadata": {},
   "outputs": [],
   "source": [
    "# file = '''\n",
    "# point#   x-coord   y-coord\n",
    "# 1         0        0\n",
    "# 2         0        0.5\n",
    "# 3         0        0\n",
    "# 4         0        0\n",
    "# 5         0        0\n",
    "# 6         0        0\n",
    "# 7         0        0\n",
    "# 8         0        0\n",
    "# '''"
   ]
  },
  {
   "cell_type": "code",
   "execution_count": null,
   "metadata": {},
   "outputs": [],
   "source": [
    "# x = [float(item) for sublist in re.findall('\\d + ([\\d,\\.]+) +([\\d,\\.]+)', file) for item in sublist]"
   ]
  },
  {
   "cell_type": "code",
   "execution_count": null,
   "metadata": {},
   "outputs": [],
   "source": [
    "key = 'YOUR API KEY'"
   ]
  },
  {
   "cell_type": "code",
   "execution_count": null,
   "metadata": {},
   "outputs": [],
   "source": [
    "file_upload = requests.post(\n",
    "  'https://platform.rescale.com/api/v2/files/contents/',\n",
    "  data=None,\n",
    "  files={'file': open('./files/airfoil_inv.cfg','rb')},\n",
    "  headers={'Authorization': 'Token ' + key} \n",
    ")"
   ]
  },
  {
   "cell_type": "code",
   "execution_count": null,
   "metadata": {},
   "outputs": [],
   "source": [
    "def cost(x):\n",
    "    with open('./files/inputs.txt', 'w') as the_file:\n",
    "        the_file.write('point#   x-coord   y-coord\\n')\n",
    "        for i in range(len(x) // 2):\n",
    "            the_file.write(str(i) + '        ' + str(x[i * 2]) + '        ' +  str(x[i * 2 + 1]) + '\\n')\n",
    "\n",
    "    input_upload = requests.post(\n",
    "      'https://platform.rescale.com/api/v2/files/contents/',\n",
    "      data=None,\n",
    "      files={'file': open('./files/inputs.txt','rb')},\n",
    "      headers={'Authorization': 'Token ' + key} \n",
    "    )\n",
    "\n",
    "    job_setup = requests.post(\n",
    "        'https://platform.rescale.com/api/v2/jobs/',\n",
    "        json = { \n",
    "            \"name\": \"Hackaton\",  \n",
    "            \"jobanalyses\": [ \n",
    "                {  \n",
    "                    \"command\": \"\"\"gen_mesh fine\n",
    "                                  run_solve 8\"\"\", \n",
    "                    \"analysis\": { \n",
    "                        \"code\": \"big_compute\",\n",
    "                        \"version\": \"bc2020\"\n",
    "                        }, \n",
    "                    \"hardware\": { \n",
    "                        \"coresPerSlot\": 64, \n",
    "                        \"slots\": 1, \n",
    "                        \"coreType\": \"hpc-plus\"\n",
    "                        },\n",
    "                    \"inputFiles\": [ \n",
    "                        { \n",
    "                            \"id\": json.loads(file_upload.text)['id']\n",
    "                            },\n",
    "                        {\n",
    "                            \"id\": json.loads(input_upload.text)['id']\n",
    "                        }\n",
    "                        ]\n",
    "                    }\n",
    "                ]\n",
    "            },\n",
    "      headers={'Authorization': 'Token ' + key} \n",
    "    )\n",
    "    \n",
    "#     print(job_setup.text)\n",
    "    \n",
    "    requests.post(\n",
    "      'https://platform.rescale.com/api/v2/jobs/' + json.loads(job_setup.content)['id'] + '/submit/',\n",
    "      headers={'Authorization': 'Token ' + key} \n",
    "    )\n",
    "\n",
    "    while json.loads(requests.get(\n",
    "      'https://platform.rescale.com/api/v2/jobs/' + json.loads(job_setup.content)['id'] + '/statuses/',\n",
    "      headers={'Authorization': 'Token ' + key} \n",
    "    ).text)['results'][0]['status'] != 'Completed':\n",
    "        ;\n",
    "       \n",
    "    files = json.loads(requests.get(\n",
    "        'https://platform.rescale.com/api/v2/jobs/' + json.loads(job_setup.content)['id'] + '/files/',\n",
    "        headers={'Authorization': 'Token ' + key}\n",
    "    ).text)['results']\n",
    "    \n",
    "    file = requests.get(\n",
    "        'https://platform.rescale.com/api/v2/files/' + files[[x['name'] for x in files].index('output.txt')]['id'] + '/lines/',\n",
    "        headers={'Authorization': 'Token ' + key} \n",
    "    ).text\n",
    "    \n",
    "    ld = float(re.findall('Lift/Drag: (\\d+\\.\\d+)', file)[0])\n",
    "    \n",
    "    print(json.loads(job_setup.content)['id'], ld)\n",
    "    return -ld"
   ]
  },
  {
   "cell_type": "code",
   "execution_count": null,
   "metadata": {},
   "outputs": [],
   "source": [
    "# cost(x)"
   ]
  },
  {
   "cell_type": "code",
   "execution_count": null,
   "metadata": {},
   "outputs": [],
   "source": [
    "scipy.optimize.differential_evolution(cost, bounds, disp=True)"
   ]
  },
  {
   "cell_type": "code",
   "execution_count": null,
   "metadata": {},
   "outputs": [],
   "source": []
  }
 ],
 "metadata": {
  "kernelspec": {
   "display_name": "Python 3",
   "language": "python",
   "name": "python3"
  },
  "language_info": {
   "codemirror_mode": {
    "name": "ipython",
    "version": 3
   },
   "file_extension": ".py",
   "mimetype": "text/x-python",
   "name": "python",
   "nbconvert_exporter": "python",
   "pygments_lexer": "ipython3",
   "version": "3.7.3"
  }
 },
 "nbformat": 4,
 "nbformat_minor": 4
}
